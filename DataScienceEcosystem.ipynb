{
 "cells": [
  {
   "cell_type": "markdown",
   "id": "94581cac-b5f7-437f-82be-39256cec4d9a",
   "metadata": {},
   "source": [
    "# Data Science Tools and Ecosystem"
   ]
  },
  {
   "cell_type": "markdown",
   "id": "a4c42277-71f5-4666-b3a0-b55f23f2f3ff",
   "metadata": {},
   "source": [
    "In this notebook, Data Science Tools and Ecosystem are summarized."
   ]
  },
  {
   "cell_type": "markdown",
   "id": "84414829-af6a-4a40-a594-cd01c15f9f5a",
   "metadata": {},
   "source": [
    "**Objectives:**\n",
    "* List popular languages for Data Science.\n",
    "* List commonly used libraries by Data Scientists.\n",
    "* List open source tools used in Data Science.\n",
    "* Introducing examples of evaluating arithmetic expressions in Python.\n",
    "* Practicing taking screenshots of Jupyter Notebook content."
   ]
  },
  {
   "cell_type": "markdown",
   "id": "d7f6db56-0aed-4fc0-a830-326a93383a50",
   "metadata": {},
   "source": [
    "Some of the popular languages that Data Scientists use are: \n",
    "1. Python\n",
    "2. SQL\n",
    "3. R\n",
    "4. Java\n",
    "5. Julia\n",
    "\n"
   ]
  },
  {
   "cell_type": "markdown",
   "id": "82c7e3fe-1b5c-4941-8c6d-29e9f04edd73",
   "metadata": {},
   "source": [
    "Some of the commonly used libraries used by Data Scientists include:\n",
    "1. pandas\n",
    "2. NumPy\n",
    "3. scikit-learn\n",
    "4. TensorFlow\n",
    "5. PyTorch\n",
    "6. Matplotlib\n",
    "7. Seaborn\n",
    "8. Plotly\n",
    "\n"
   ]
  },
  {
   "cell_type": "markdown",
   "id": "ceb18743-631d-49d5-8245-c489a5821756",
   "metadata": {},
   "source": [
    "| Data Science Tools |\n",
    "| ------------------ |\n",
    "| Jupyter Notebook |\n",
    "| RStudio |\n",
    "| VS Code |"
   ]
  },
  {
   "cell_type": "markdown",
   "id": "b70630f2-8138-459b-87bc-126699cca3fd",
   "metadata": {},
   "source": [
    "### Below are a few examples of evaluating arithmetic expressions in Python."
   ]
  },
  {
   "cell_type": "code",
   "execution_count": 1,
   "id": "8c63d650-cb8c-49cb-b391-f1c80e9b378b",
   "metadata": {},
   "outputs": [
    {
     "data": {
      "text/plain": [
       "17"
      ]
     },
     "execution_count": 1,
     "metadata": {},
     "output_type": "execute_result"
    }
   ],
   "source": [
    "(3*4)+5 # This is a simple arithmetic expression to mutiply then add integers.\n"
   ]
  },
  {
   "cell_type": "code",
   "execution_count": 2,
   "id": "9cbbb2f7-2daa-46cd-a4da-c63b59ca2609",
   "metadata": {},
   "outputs": [
    {
     "data": {
      "text/plain": [
       "3.3333333333333335"
      ]
     },
     "execution_count": 2,
     "metadata": {},
     "output_type": "execute_result"
    }
   ],
   "source": [
    "# This will convert 200 minutes to hours by diving by 60.\n",
    "200/60"
   ]
  },
  {
   "cell_type": "markdown",
   "id": "eb0817d6-2c22-4831-9233-2ab4b33d0a48",
   "metadata": {},
   "source": [
    "## Author\n",
    "dr. Varga Eszter"
   ]
  }
 ],
 "metadata": {
  "kernelspec": {
   "display_name": "Python 3 (ipykernel)",
   "language": "python",
   "name": "python3"
  },
  "language_info": {
   "codemirror_mode": {
    "name": "ipython",
    "version": 3
   },
   "file_extension": ".py",
   "mimetype": "text/x-python",
   "name": "python",
   "nbconvert_exporter": "python",
   "pygments_lexer": "ipython3",
   "version": "3.10.9"
  }
 },
 "nbformat": 4,
 "nbformat_minor": 5
}
